{
 "cells": [
  {
   "cell_type": "markdown",
   "id": "f563b858",
   "metadata": {},
   "source": [
    "# Loading model"
   ]
  },
  {
   "cell_type": "code",
   "execution_count": 1,
   "id": "b70409e3",
   "metadata": {
    "ExecuteTime": {
     "end_time": "2021-12-08T06:22:18.168624Z",
     "start_time": "2021-12-08T06:22:11.022015Z"
    }
   },
   "outputs": [],
   "source": [
    "import tensorflow as tf"
   ]
  },
  {
   "cell_type": "code",
   "execution_count": 2,
   "id": "3903ee56",
   "metadata": {
    "ExecuteTime": {
     "end_time": "2021-12-08T06:22:18.176933Z",
     "start_time": "2021-12-08T06:22:18.170983Z"
    }
   },
   "outputs": [],
   "source": [
    "import os"
   ]
  },
  {
   "cell_type": "code",
   "execution_count": 3,
   "id": "483aadbd",
   "metadata": {
    "ExecuteTime": {
     "end_time": "2021-12-08T06:22:18.188798Z",
     "start_time": "2021-12-08T06:22:18.181584Z"
    }
   },
   "outputs": [],
   "source": [
    "model_filename = \"keypoint_classifier.hdf5\"\n",
    "model_save_path = os.path.join('model', model_filename)"
   ]
  },
  {
   "cell_type": "code",
   "execution_count": 4,
   "id": "cf445ef6",
   "metadata": {
    "ExecuteTime": {
     "end_time": "2021-12-08T06:22:18.204328Z",
     "start_time": "2021-12-08T06:22:18.196826Z"
    }
   },
   "outputs": [],
   "source": [
    "DIRECTION = {\n",
    "    'up': 0,\n",
    "    'down': 1,\n",
    "    'back': 2,\n",
    "    'forward': 3,\n",
    "    'left': 4,\n",
    "    'right': 5\n",
    "}\n",
    "INVERSE_DIRECTION = {val: key for key, val in DIRECTION.items()}"
   ]
  },
  {
   "cell_type": "code",
   "execution_count": 5,
   "id": "529556f8",
   "metadata": {
    "ExecuteTime": {
     "end_time": "2021-12-08T06:22:18.428410Z",
     "start_time": "2021-12-08T06:22:18.209863Z"
    }
   },
   "outputs": [
    {
     "name": "stderr",
     "output_type": "stream",
     "text": [
      "2021-12-08 12:07:18.240995: I tensorflow/core/platform/cpu_feature_guard.cc:151] This TensorFlow binary is optimized with oneAPI Deep Neural Network Library (oneDNN) to use the following CPU instructions in performance-critical operations:  AVX2 FMA\n",
      "To enable them in other operations, rebuild TensorFlow with the appropriate compiler flags.\n"
     ]
    }
   ],
   "source": [
    "model = tf.keras.models.load_model(model_save_path)"
   ]
  },
  {
   "cell_type": "code",
   "execution_count": 10,
   "id": "8e49da49",
   "metadata": {
    "ExecuteTime": {
     "end_time": "2021-12-06T03:32:52.731544Z",
     "start_time": "2021-12-06T03:32:52.700615Z"
    }
   },
   "outputs": [
    {
     "data": {
      "text/plain": [
       "[<tf.Variable 'dense/kernel:0' shape=(42, 32) dtype=float32, numpy=\n",
       " array([[ 0.28536266, -0.17170145,  0.01691386, ...,  0.10488549,\n",
       "          0.08943686, -0.16523671],\n",
       "        [ 0.58007896,  0.18528442, -0.20502406, ..., -0.4396787 ,\n",
       "         -0.14293262, -0.28677806],\n",
       "        [-0.00782894,  0.0783958 , -0.12761739, ...,  0.05299959,\n",
       "         -0.277816  ,  0.3873113 ],\n",
       "        ...,\n",
       "        [-0.05804154, -0.06494728,  0.0198838 , ...,  0.20319828,\n",
       "          0.22082582,  0.00704322],\n",
       "        [ 0.1441247 , -0.20837139,  0.1039812 , ..., -0.3770678 ,\n",
       "         -0.02897057, -0.00083756],\n",
       "        [ 0.4402409 , -0.12186212, -0.0781737 , ...,  0.17160358,\n",
       "         -0.0155257 ,  0.03420025]], dtype=float32)>,\n",
       " <tf.Variable 'dense/bias:0' shape=(32,) dtype=float32, numpy=\n",
       " array([ 0.21120265,  0.11878837,  0.04358736,  0.02852655,  0.        ,\n",
       "         0.0698735 , -0.02003215, -0.01524948,  0.        ,  0.07415266,\n",
       "         0.0214069 ,  0.        , -0.01923835, -0.01519306,  0.05001137,\n",
       "         0.        , -0.01344961,  0.03578721,  0.1167872 ,  0.        ,\n",
       "        -0.04721691,  0.01567461,  0.06483013,  0.05348746,  0.        ,\n",
       "        -0.00098917,  0.        ,  0.        ,  0.06098744,  0.0263319 ,\n",
       "         0.        ,  0.10439222], dtype=float32)>,\n",
       " <tf.Variable 'dense_1/kernel:0' shape=(32, 32) dtype=float32, numpy=\n",
       " array([[ 3.01467758e-02,  2.12733150e-01,  2.89295334e-04, ...,\n",
       "         -6.00440688e-02, -1.38780624e-01,  2.46435925e-01],\n",
       "        [-2.54583478e-01,  8.90104398e-02,  1.72481924e-01, ...,\n",
       "          4.42094147e-01, -2.84687519e-01,  1.15330346e-01],\n",
       "        [ 1.36246070e-01, -7.73885846e-03,  6.52331889e-01, ...,\n",
       "          2.72375017e-01, -2.20410615e-01, -6.28379464e-01],\n",
       "        ...,\n",
       "        [ 6.15753055e-01, -1.82210743e-01,  4.15090472e-01, ...,\n",
       "          7.97258735e-01,  2.83344001e-01, -8.08358312e-01],\n",
       "        [-1.23250961e-01, -4.48161066e-02,  2.47406393e-01, ...,\n",
       "         -2.23164082e-01,  1.68591619e-01,  1.96166307e-01],\n",
       "        [-4.81827915e-01, -6.53012753e-01, -4.18367356e-01, ...,\n",
       "          6.13164119e-02, -5.93651645e-02,  4.12094295e-01]], dtype=float32)>,\n",
       " <tf.Variable 'dense_1/bias:0' shape=(32,) dtype=float32, numpy=\n",
       " array([ 0.02605535,  0.0447198 ,  0.06170601,  0.07397332,  0.05028707,\n",
       "        -0.00471019,  0.01182873,  0.08351297,  0.        ,  0.00887804,\n",
       "         0.00590243,  0.04019438,  0.        ,  0.16054234,  0.06416228,\n",
       "         0.10091861,  0.        ,  0.18419488,  0.        ,  0.13855703,\n",
       "         0.01386333,  0.05058812,  0.05624785, -0.09504221,  0.09245427,\n",
       "         0.05513037,  0.03867152, -0.05332825,  0.18698959,  0.05637025,\n",
       "        -0.00599592,  0.07505105], dtype=float32)>,\n",
       " <tf.Variable 'dense_2/kernel:0' shape=(32, 16) dtype=float32, numpy=\n",
       " array([[-0.15134294,  0.73797214,  0.31335902, -0.32180405,  0.34950548,\n",
       "          0.2021923 , -0.13702731,  0.29024908,  0.25435933, -0.28815863,\n",
       "          0.32388896,  0.21291035,  0.46928194,  0.35884783, -0.09494546,\n",
       "         -0.3211499 ],\n",
       "        [ 0.5258597 ,  0.4067192 , -0.39045376, -0.4284833 ,  0.14671426,\n",
       "          0.2724259 ,  0.24016443, -0.29233205, -0.2817516 , -0.26489598,\n",
       "          0.1529875 ,  0.26913986, -0.48824182,  0.33413506,  0.07714543,\n",
       "         -0.05638151],\n",
       "        [-0.17155448,  0.43451372, -0.06293948, -0.4855904 ,  0.6815156 ,\n",
       "          0.04896687, -0.19566077,  0.17843196, -0.30602768,  0.25362802,\n",
       "          0.6807341 ,  0.22550012,  0.06688594,  0.4581292 , -0.10731304,\n",
       "          0.27793944],\n",
       "        [-0.8300255 ,  0.12111551, -0.06845976,  0.31521103,  0.6795577 ,\n",
       "         -0.15892321,  0.23942986, -0.28361776, -0.06896776,  0.0649168 ,\n",
       "          0.8025446 ,  0.15250742,  0.14510095, -0.26060233,  0.1397205 ,\n",
       "          0.8112425 ],\n",
       "        [-0.5189838 , -0.47545457,  0.30164385,  0.65450686,  0.68784475,\n",
       "          0.18203339, -0.16969913, -0.19508123, -0.17158732, -0.05674985,\n",
       "          0.26007432, -0.01495522,  0.19586237, -0.41234684,  0.13115272,\n",
       "          0.23308018],\n",
       "        [ 0.3040479 , -0.34075105,  0.18548176, -0.35321337, -0.20253405,\n",
       "         -0.32017154,  0.22938175, -0.14762759, -0.19888507, -0.29198593,\n",
       "          0.08226029, -0.23365021,  0.11772726, -0.34828293, -0.20809728,\n",
       "          0.39692786],\n",
       "        [-0.02321773, -0.2362708 ,  0.01607559,  0.4121769 , -0.01608972,\n",
       "          0.21076195,  0.01374466, -0.26631328, -0.3485418 , -0.02937476,\n",
       "         -0.09571873, -0.28362846,  0.07410774, -0.07162075, -0.30986035,\n",
       "          0.26938066],\n",
       "        [ 0.18853992, -0.2039495 ,  0.38120696,  0.79554284,  0.561219  ,\n",
       "          0.30217335, -0.2586862 ,  0.12635574,  0.07137915, -0.00236253,\n",
       "         -0.0679491 , -0.07924219,  0.36910194, -0.3491217 ,  0.3418511 ,\n",
       "         -0.32513174],\n",
       "        [-0.33544785,  0.17484906, -0.16661315,  0.09623465, -0.07909244,\n",
       "          0.18461314,  0.00339922,  0.24969122,  0.00129282, -0.14209077,\n",
       "         -0.34884912,  0.10803434, -0.27169317, -0.22648114, -0.24164297,\n",
       "          0.0016267 ],\n",
       "        [ 0.7490231 ,  0.0087215 ,  0.18763079, -0.20911701, -0.58877444,\n",
       "         -0.37512863, -0.1117257 ,  0.2603999 ,  0.28555796, -0.10836418,\n",
       "         -0.2626784 , -0.28461623, -0.38583514, -0.49072933,  0.29781714,\n",
       "         -0.1250944 ],\n",
       "        [ 0.47230455,  0.7769893 ,  0.11412479, -0.7111251 , -0.03572681,\n",
       "          0.18868203, -0.2090524 , -0.3251196 ,  0.15389356, -0.22793597,\n",
       "         -0.6647798 ,  0.08543877, -0.05081745,  0.54938084, -0.21413389,\n",
       "         -0.70101446],\n",
       "        [-0.5820543 ,  0.11428831, -0.8356414 , -0.47237882,  0.07888337,\n",
       "         -0.05416678,  0.15427914, -0.21315238, -0.30557188, -0.34159392,\n",
       "          1.0817808 ,  0.00783132, -0.35412025,  0.05685939, -0.03695917,\n",
       "          0.86988574],\n",
       "        [-0.253284  ,  0.2574747 ,  0.15114406, -0.21972163, -0.24307209,\n",
       "          0.27321932, -0.05732712,  0.17002317, -0.04679877,  0.32678202,\n",
       "          0.19717768,  0.34673098, -0.12442154, -0.03425351, -0.16213883,\n",
       "         -0.10933204],\n",
       "        [ 0.23273687,  0.18451607,  0.25460616,  0.4746547 ,  0.2490687 ,\n",
       "         -0.28811598,  0.2640743 ,  0.24790439,  0.2849287 , -0.3930181 ,\n",
       "         -0.11390894, -0.18458393,  0.5812484 ,  0.297669  , -0.05648613,\n",
       "         -0.01322011],\n",
       "        [ 0.7568515 , -0.269345  ,  0.40463307,  0.27671698, -0.49393848,\n",
       "         -0.2619242 , -0.28332373, -0.17128134,  0.09560439,  0.11027443,\n",
       "         -0.5357498 ,  0.25647882,  0.0664905 ,  0.10176269,  0.32107738,\n",
       "         -0.18176718],\n",
       "        [ 0.07182815,  0.32548365, -0.2358715 ,  0.19690707,  0.06966452,\n",
       "          0.02526239, -0.09425415, -0.20117441, -0.23001002,  0.0429167 ,\n",
       "          0.13844688,  0.2667885 , -0.18948576, -0.00214377, -0.08327222,\n",
       "          0.3561329 ],\n",
       "        [ 0.17724594, -0.02248535,  0.23689577,  0.15030846,  0.27788082,\n",
       "          0.19461545,  0.1949602 ,  0.13984281,  0.1696752 ,  0.02541775,\n",
       "          0.25157574, -0.24331915, -0.34463865,  0.31484482, -0.2991295 ,\n",
       "          0.02058074],\n",
       "        [ 0.43281376, -0.14056079, -0.01968985,  0.0766888 ,  0.4127319 ,\n",
       "         -0.14976747, -0.2430115 , -0.31718385, -0.22375955, -0.01503565,\n",
       "          0.31579888, -0.18220465,  0.34313208,  0.09043766, -0.2624417 ,\n",
       "          0.41713303],\n",
       "        [-0.23598137,  0.22693792,  0.21551976, -0.13734773,  0.1594455 ,\n",
       "         -0.1806837 , -0.03831393,  0.21577188,  0.31248304,  0.08236176,\n",
       "          0.15385178, -0.19392245, -0.26079947, -0.29395792,  0.14304227,\n",
       "         -0.19170974],\n",
       "        [ 0.09343815,  0.5442355 ,  0.3922679 ,  0.67093164,  0.47221935,\n",
       "         -0.04761478,  0.17308956,  0.17908624, -0.12976357,  0.23463632,\n",
       "          0.22805575,  0.26252818,  0.23132026, -0.01929757,  0.2373611 ,\n",
       "          0.00508604],\n",
       "        [ 0.45019785, -0.4251602 ,  0.08736725, -0.27456775, -0.6311783 ,\n",
       "         -0.0118137 ,  0.04137408, -0.07258084,  0.1980327 ,  0.18133739,\n",
       "         -0.41291535, -0.3534165 ,  0.00915545, -0.12723675,  0.17977157,\n",
       "         -0.46422917],\n",
       "        [ 0.380995  ,  0.48394272,  0.27648285,  0.15373288,  0.3976467 ,\n",
       "          0.2192282 , -0.12762628,  0.12094688,  0.29354343, -0.27383226,\n",
       "         -0.2557234 , -0.10094941, -0.28764957,  0.35503864,  0.04547948,\n",
       "         -0.13308194],\n",
       "        [ 0.6115027 , -0.04442628,  0.46272618,  0.48503077,  0.06896211,\n",
       "         -0.20072873,  0.18671392,  0.29227504, -0.1660505 , -0.23008342,\n",
       "         -0.16704264,  0.08563004,  0.1462964 ,  0.3000158 ,  0.07682267,\n",
       "         -0.5145122 ],\n",
       "        [-0.1343894 , -0.04285976,  0.22188947, -0.49954084, -0.2515027 ,\n",
       "          0.06258293,  0.3168264 ,  0.15897068, -0.03328869,  0.05781362,\n",
       "          0.02467579, -0.21094051, -0.02635423,  0.38527095, -0.15414695,\n",
       "         -0.0102806 ],\n",
       "        [-0.5809051 ,  0.48721075, -0.7760654 , -0.14977247,  0.37929952,\n",
       "         -0.18140346, -0.2391652 , -0.06775814,  0.24846295, -0.27868098,\n",
       "          0.87299347,  0.01538972,  0.4363701 , -0.18692954,  0.22116044,\n",
       "          0.29294342],\n",
       "        [ 0.75531226, -0.403917  ,  0.22080474, -0.08527241, -0.46447408,\n",
       "         -0.02000933, -0.08292004,  0.19956496,  0.35331795, -0.20131189,\n",
       "         -0.09552473, -0.28244397,  0.24173725, -0.3927863 , -0.27079028,\n",
       "         -0.39200452],\n",
       "        [ 0.48145044,  0.3954328 ,  0.271916  , -0.28490856, -0.25960532,\n",
       "          0.0638925 , -0.01348812,  0.06324917,  0.05976987, -0.26562372,\n",
       "          0.10371804, -0.2557502 , -0.03744462,  0.47027838, -0.30519605,\n",
       "          0.32823706],\n",
       "        [ 0.38159996,  0.20151477, -0.06033452, -0.39705867, -0.42717576,\n",
       "         -0.14052564, -0.28579894, -0.26906288, -0.23393095, -0.07422683,\n",
       "         -0.5525375 , -0.04192707, -0.20726824,  0.4749333 , -0.1554621 ,\n",
       "         -0.33928177],\n",
       "        [ 0.3579763 ,  0.09366625, -0.46433473,  0.17156628,  0.40213147,\n",
       "         -0.03741093, -0.2926093 ,  0.09390277,  0.07468557,  0.30261847,\n",
       "          0.33622018, -0.26464358, -0.21066183,  0.11728091, -0.1335862 ,\n",
       "          0.426109  ],\n",
       "        [-0.2899308 ,  0.24782856, -0.6564445 , -0.41430113,  0.6306946 ,\n",
       "          0.08436548,  0.1001021 , -0.10390227, -0.03565192,  0.29958433,\n",
       "          0.8121065 , -0.04807609,  0.0324317 , -0.0365184 ,  0.0764344 ,\n",
       "          0.6397671 ],\n",
       "        [-0.27717716, -0.0933077 , -0.16288318, -0.16052896, -0.3201526 ,\n",
       "         -0.18404305, -0.05868862, -0.18602118,  0.10475987,  0.1564857 ,\n",
       "         -0.16158295, -0.21315625,  0.1731938 , -0.20926522, -0.27749747,\n",
       "         -0.00458697],\n",
       "        [ 0.60408795, -0.41869658,  0.10203652,  0.13251409, -0.38670132,\n",
       "         -0.21312936,  0.19113527,  0.02842736, -0.21590717, -0.01216847,\n",
       "          0.03353434,  0.29430124,  0.20030452, -0.4129528 , -0.09239888,\n",
       "         -0.33319756]], dtype=float32)>,\n",
       " <tf.Variable 'dense_2/bias:0' shape=(16,) dtype=float32, numpy=\n",
       " array([ 1.39212549e-01,  3.69618572e-02, -2.22037937e-02,  8.14521164e-02,\n",
       "         9.04299840e-02, -4.88909073e-02, -4.45181923e-03,  0.00000000e+00,\n",
       "         0.00000000e+00, -2.31380276e-02,  3.39555107e-02, -1.11031635e-02,\n",
       "         4.32925299e-02,  5.44585782e-05,  0.00000000e+00,  9.08043310e-02],\n",
       "       dtype=float32)>,\n",
       " <tf.Variable 'dense_3/kernel:0' shape=(16, 6) dtype=float32, numpy=\n",
       " array([[ 0.33767647, -0.9819846 , -0.10834867,  0.35766092, -0.8035286 ,\n",
       "          0.2951997 ],\n",
       "        [-0.9378375 ,  0.68100756, -0.00752713, -0.9670876 ,  0.13614628,\n",
       "          0.9206486 ],\n",
       "        [ 0.59950995, -0.43731797,  0.7516779 , -0.8809279 , -1.0277114 ,\n",
       "         -0.02624219],\n",
       "        [ 0.35029703, -0.9576601 ,  0.17432295, -0.57408285,  0.5989864 ,\n",
       "         -0.80650604],\n",
       "        [-1.1919645 ,  0.5534255 ,  0.2920472 , -1.0233289 ,  0.6390349 ,\n",
       "         -0.41870913],\n",
       "        [-0.3935215 , -0.41382852, -0.5391148 , -0.5641302 , -0.3427169 ,\n",
       "          0.2645154 ],\n",
       "        [ 0.34567407,  0.10668481, -0.13949062, -0.4970158 , -0.34028712,\n",
       "          0.48098022],\n",
       "        [-0.09318119,  0.43788683, -0.5096299 , -0.07080212, -0.07096598,\n",
       "         -0.10712844],\n",
       "        [ 0.4020872 ,  0.02186394, -0.00156295,  0.14292294,  0.2329101 ,\n",
       "          0.03073668],\n",
       "        [-0.2122605 , -0.18182558, -0.52793443,  0.27830058,  0.09101744,\n",
       "          0.40573126],\n",
       "        [-0.87007695,  0.7873715 , -0.02332794,  0.29708448,  0.6943503 ,\n",
       "         -0.6002323 ],\n",
       "        [ 0.2508476 , -0.45080993, -0.30964932, -0.3506695 ,  0.2635081 ,\n",
       "          0.33453327],\n",
       "        [-0.04526955, -0.47315472,  0.5923245 , -0.08669705,  0.5754802 ,\n",
       "          0.14191659],\n",
       "        [-0.57390225,  0.84581566, -0.0504285 , -0.8174044 , -0.36438045,\n",
       "          0.93712735],\n",
       "        [-0.4923066 ,  0.20191056,  0.30470145, -0.04257795,  0.06805807,\n",
       "         -0.30208677],\n",
       "        [-0.4530024 ,  0.7775131 , -0.1087731 ,  0.77574015,  0.5099802 ,\n",
       "         -1.0470703 ]], dtype=float32)>,\n",
       " <tf.Variable 'dense_3/bias:0' shape=(6,) dtype=float32, numpy=\n",
       " array([ 0.08323904, -0.15612562,  0.01449173,  0.19674207,  0.01535142,\n",
       "        -0.13040279], dtype=float32)>]"
      ]
     },
     "execution_count": 10,
     "metadata": {},
     "output_type": "execute_result"
    }
   ],
   "source": [
    "model.weights"
   ]
  },
  {
   "cell_type": "markdown",
   "id": "ccc68e3f",
   "metadata": {},
   "source": [
    "# Using Alternative dataset to show model works for demo purposes"
   ]
  },
  {
   "cell_type": "code",
   "execution_count": 11,
   "id": "fc7734c2",
   "metadata": {
    "ExecuteTime": {
     "end_time": "2021-12-06T03:33:00.619738Z",
     "start_time": "2021-12-06T03:32:59.522699Z"
    }
   },
   "outputs": [],
   "source": [
    "import numpy as np\n",
    "import cv2\n",
    "%matplotlib inline"
   ]
  },
  {
   "cell_type": "code",
   "execution_count": 12,
   "id": "adeac6d8",
   "metadata": {
    "ExecuteTime": {
     "end_time": "2021-12-06T03:33:07.619722Z",
     "start_time": "2021-12-06T03:33:07.615644Z"
    }
   },
   "outputs": [],
   "source": [
    "OUTPUT_DATA_DIR = 'data'\n",
    "dataset_path = os.path.join(OUTPUT_DATA_DIR, \n",
    "                            \"keypoints_96e338c5c42b4a1ebf2c7726d4f37756.csv\")\n",
    "KEYPOINTS_FNAME = 'keypoints'"
   ]
  },
  {
   "cell_type": "code",
   "execution_count": 13,
   "id": "89b7da93",
   "metadata": {
    "ExecuteTime": {
     "end_time": "2021-12-06T03:33:07.910793Z",
     "start_time": "2021-12-06T03:33:07.892656Z"
    }
   },
   "outputs": [],
   "source": [
    "data = np.loadtxt(\n",
    "    dataset_path,\n",
    "    delimiter=',',\n",
    "    dtype='float32',\n",
    "#     usecols=list(range(1, (21 * 2) +1))\n",
    ")"
   ]
  },
  {
   "cell_type": "code",
   "execution_count": 14,
   "id": "dfba827b",
   "metadata": {
    "ExecuteTime": {
     "end_time": "2021-12-06T03:33:08.353218Z",
     "start_time": "2021-12-06T03:33:08.342348Z"
    }
   },
   "outputs": [
    {
     "data": {
      "text/plain": [
       "120"
      ]
     },
     "execution_count": 14,
     "metadata": {},
     "output_type": "execute_result"
    }
   ],
   "source": [
    "len(data)"
   ]
  },
  {
   "cell_type": "code",
   "execution_count": 15,
   "id": "978255e5",
   "metadata": {
    "ExecuteTime": {
     "end_time": "2021-12-06T03:33:08.722999Z",
     "start_time": "2021-12-06T03:33:08.719449Z"
    }
   },
   "outputs": [],
   "source": [
    "np.random.shuffle(data)"
   ]
  },
  {
   "cell_type": "code",
   "execution_count": 16,
   "id": "28bd8924",
   "metadata": {
    "ExecuteTime": {
     "end_time": "2021-12-06T03:33:09.129722Z",
     "start_time": "2021-12-06T03:33:09.125265Z"
    }
   },
   "outputs": [],
   "source": [
    "X_data = data[:, 1:]"
   ]
  },
  {
   "cell_type": "code",
   "execution_count": 17,
   "id": "1c0c5d46",
   "metadata": {
    "ExecuteTime": {
     "end_time": "2021-12-06T03:33:09.966397Z",
     "start_time": "2021-12-06T03:33:09.960261Z"
    }
   },
   "outputs": [
    {
     "data": {
      "text/plain": [
       "120"
      ]
     },
     "execution_count": 17,
     "metadata": {},
     "output_type": "execute_result"
    }
   ],
   "source": [
    "len(X_data)"
   ]
  },
  {
   "cell_type": "code",
   "execution_count": 18,
   "id": "f9360b66",
   "metadata": {
    "ExecuteTime": {
     "end_time": "2021-12-06T03:33:10.350550Z",
     "start_time": "2021-12-06T03:33:10.346723Z"
    }
   },
   "outputs": [],
   "source": [
    "Y_data = data[:, 0]"
   ]
  },
  {
   "cell_type": "code",
   "execution_count": 19,
   "id": "ed9601e8",
   "metadata": {
    "ExecuteTime": {
     "end_time": "2021-12-06T03:33:12.116407Z",
     "start_time": "2021-12-06T03:33:12.106518Z"
    }
   },
   "outputs": [
    {
     "data": {
      "text/plain": [
       "array([5, 0, 1, 1, 2, 1, 0, 0, 5, 3, 4, 3, 1, 3, 3, 3, 1, 4, 0, 3, 1, 1,\n",
       "       1, 1, 4, 5, 2, 4, 2, 3, 5, 2, 3, 0, 0, 0, 5, 3, 2, 1, 0, 5, 2, 4,\n",
       "       0, 4, 4, 1, 1, 4, 2, 4, 2, 5, 4, 2, 2, 2, 5, 1, 4, 0, 0, 4, 2, 0,\n",
       "       3, 4, 5, 0, 4, 1, 4, 5, 5, 3, 4, 1, 2, 2, 2, 0, 3, 3, 0, 0, 0, 3,\n",
       "       5, 3, 3, 0, 5, 0, 5, 4, 2, 4, 1, 5, 5, 0, 2, 2, 4, 1, 5, 5, 5, 4,\n",
       "       3, 3, 5, 1, 2, 3, 3, 2, 1, 1], dtype=int32)"
      ]
     },
     "execution_count": 19,
     "metadata": {},
     "output_type": "execute_result"
    }
   ],
   "source": [
    "Y_data.astype('int32')"
   ]
  },
  {
   "cell_type": "code",
   "execution_count": 20,
   "id": "fd2e16ff",
   "metadata": {
    "ExecuteTime": {
     "end_time": "2021-12-06T03:33:13.761182Z",
     "start_time": "2021-12-06T03:33:13.754558Z"
    }
   },
   "outputs": [],
   "source": [
    "labels = [INVERSE_DIRECTION[y] for y in Y_data]"
   ]
  },
  {
   "cell_type": "code",
   "execution_count": null,
   "id": "dd2db7d4",
   "metadata": {
    "ExecuteTime": {
     "end_time": "2021-12-04T10:27:58.551414Z",
     "start_time": "2021-12-04T10:27:58.541941Z"
    }
   },
   "outputs": [],
   "source": [
    "Y_data"
   ]
  },
  {
   "cell_type": "code",
   "execution_count": null,
   "id": "40cf8df0",
   "metadata": {
    "ExecuteTime": {
     "end_time": "2021-12-04T10:30:40.450361Z",
     "start_time": "2021-12-04T10:30:35.814552Z"
    }
   },
   "outputs": [],
   "source": [
    "print(\"Y_pred\\tY\\t\")\n",
    "for i in range(120):\n",
    "    predict = model.predict(np.array([X_data[i]]))\n",
    "    y_cap = np.argmax(np.squeeze(predict))\n",
    "    print(f\"{INVERSE_DIRECTION[y_cap]}\\t{labels[i]}\\n\")\n",
    "    "
   ]
  },
  {
   "cell_type": "markdown",
   "id": "ce05f480",
   "metadata": {},
   "source": [
    "## Confusion martrix"
   ]
  },
  {
   "cell_type": "code",
   "execution_count": 21,
   "id": "f2c3e51c",
   "metadata": {
    "ExecuteTime": {
     "end_time": "2021-12-06T03:33:18.540084Z",
     "start_time": "2021-12-06T03:33:16.957761Z"
    }
   },
   "outputs": [
    {
     "data": {
      "image/png": "[encoded data removed]",
      "text/plain": [
       "<Figure size 504x432 with 2 Axes>"
      ]
     },
     "metadata": {
      "needs_background": "light"
     },
     "output_type": "display_data"
    },
    {
     "name": "stdout",
     "output_type": "stream",
     "text": [
      "Classification Report\n",
      "              precision    recall  f1-score   support\n",
      "\n",
      "         0.0       1.00      0.95      0.97        20\n",
      "         1.0       1.00      1.00      1.00        20\n",
      "         2.0       0.91      1.00      0.95        20\n",
      "         3.0       1.00      1.00      1.00        20\n",
      "         4.0       1.00      0.95      0.97        20\n",
      "         5.0       1.00      1.00      1.00        20\n",
      "\n",
      "    accuracy                           0.98       120\n",
      "   macro avg       0.98      0.98      0.98       120\n",
      "weighted avg       0.98      0.98      0.98       120\n",
      "\n"
     ]
    }
   ],
   "source": [
    "import pandas as pd\n",
    "import seaborn as sns\n",
    "import matplotlib.pyplot as plt\n",
    "from sklearn.metrics import confusion_matrix, classification_report\n",
    "\n",
    "\n",
    "def print_confusion_matrix(y_true, y_pred, report=True):\n",
    "    labels = sorted(list(set(y_true)))\n",
    "    cmx_data = confusion_matrix(y_true, y_pred, labels=labels)\n",
    "    \n",
    "    df_cmx = pd.DataFrame(cmx_data, index=labels, columns=labels)\n",
    " \n",
    "    fig, ax = plt.subplots(figsize=(7, 6))\n",
    "    sns.heatmap(df_cmx, annot=True, fmt='g' ,square=False)\n",
    "    ax.set_ylim(len(set(y_true)), 0)\n",
    "    plt.show()\n",
    "    \n",
    "    if report:\n",
    "        print('Classification Report')\n",
    "        print(classification_report(Y_data, y_pred))\n",
    "\n",
    "Y_pred = model.predict(X_data)\n",
    "y_pred = np.argmax(Y_pred, axis=1)\n",
    "\n",
    "print_confusion_matrix(Y_data, y_pred)"
   ]
  },
  {
   "cell_type": "markdown",
   "id": "901a4b93",
   "metadata": {},
   "source": [
    "# Showing live demo using cv2"
   ]
  },
  {
   "cell_type": "code",
   "execution_count": 1,
   "id": "c2f3d968",
   "metadata": {
    "ExecuteTime": {
     "end_time": "2021-12-06T07:04:00.767032Z",
     "start_time": "2021-12-06T07:03:59.515511Z"
    }
   },
   "outputs": [],
   "source": [
    "import mediapipe as mp\n",
    "import cv2\n",
    "import numpy as np"
   ]
  },
  {
   "cell_type": "code",
   "execution_count": 2,
   "id": "282d780f",
   "metadata": {
    "ExecuteTime": {
     "end_time": "2021-12-06T07:04:00.775656Z",
     "start_time": "2021-12-06T07:04:00.770616Z"
    }
   },
   "outputs": [],
   "source": [
    "def write_text_on_video(frame, direction, color=(255,255,255)):\n",
    "    font = cv2.FONT_HERSHEY_SIMPLEX\n",
    "    cv2.putText(frame,\n",
    "               f\"{direction}\",\n",
    "               (50, 50),\n",
    "                font, 1, \n",
    "                color,\n",
    "                2,\n",
    "                cv2.LINE_4)"
   ]
  },
  {
   "cell_type": "code",
   "execution_count": 3,
   "id": "4c24ceea",
   "metadata": {
    "ExecuteTime": {
     "end_time": "2021-12-06T07:04:00.793085Z",
     "start_time": "2021-12-06T07:04:00.782840Z"
    }
   },
   "outputs": [],
   "source": [
    "def extract_keypoints(landmark):\n",
    "    if not landmark: return\n",
    "    keypoints = []\n",
    "    for data_point in enumerate(landmark[0].landmark):\n",
    "        keypoints.extend(\n",
    "            [data_point[1].x, data_point[1].y]\n",
    "        )\n",
    "    return keypoints\n",
    "    "
   ]
  },
  {
   "cell_type": "code",
   "execution_count": 4,
   "id": "aa445ee7",
   "metadata": {
    "ExecuteTime": {
     "end_time": "2021-12-06T07:04:00.818738Z",
     "start_time": "2021-12-06T07:04:00.806987Z"
    }
   },
   "outputs": [],
   "source": [
    "def add_hands_connection(frame, hands):\n",
    "    image = cv2.cvtColor(frame, cv2.COLOR_BGR2RGB)\n",
    "    image.flags.writeable = False\n",
    "    results = hands.process(image)\n",
    "    image.flags.writeable = True\n",
    "    image = cv2.cvtColor(image, cv2.COLOR_RGB2BGR)\n",
    "    if results.multi_hand_landmarks:\n",
    "        for num, hand in enumerate(results.multi_hand_landmarks):\n",
    "            mp_drawing.draw_landmarks(\n",
    "                image, hand, \n",
    "                mp_hands.HAND_CONNECTIONS,\n",
    "                mp_drawing.DrawingSpec(color=(121,22,78), thickness=2, circle_radius=4),\n",
    "                mp_drawing.DrawingSpec(color=(121,44,250), thickness=2, circle_radius=2),\n",
    "            )\n",
    "    return image, results"
   ]
  },
  {
   "cell_type": "code",
   "execution_count": 5,
   "id": "b48d73f9",
   "metadata": {
    "ExecuteTime": {
     "end_time": "2021-12-06T07:04:01.212627Z",
     "start_time": "2021-12-06T07:04:01.205618Z"
    }
   },
   "outputs": [],
   "source": [
    "def predict_label(keypoints):\n",
    "    return INVERSE_DIRECTION[\n",
    "        np.argmax(np.squeeze(\n",
    "            model.predict([keypoints])\n",
    "                  ))]"
   ]
  },
  {
   "cell_type": "code",
   "execution_count": 6,
   "id": "5dba4db1",
   "metadata": {
    "ExecuteTime": {
     "end_time": "2021-12-06T07:04:01.572611Z",
     "start_time": "2021-12-06T07:04:01.565800Z"
    }
   },
   "outputs": [],
   "source": [
    "mp_drawing = mp.solutions.drawing_utils\n",
    "mp_hands = mp.solutions.hands"
   ]
  },
  {
   "cell_type": "code",
   "execution_count": null,
   "id": "cea013e4",
   "metadata": {
    "ExecuteTime": {
     "start_time": "2021-12-06T06:56:06.850Z"
    }
   },
   "outputs": [],
   "source": [
    "cap = cv2.VideoCapture(0)\n",
    "with mp_hands.Hands(min_detection_confidence=0.8, min_tracking_confidence=0.7) as hands:\n",
    "    while cap.isOpened():\n",
    "        ret, frame = cap.read()\n",
    "        image, results = add_hands_connection(frame, hands)\n",
    "        image = cv2.flip(image, 1)\n",
    "        landmark_result = results.multi_hand_landmarks\n",
    "        if landmark_result:\n",
    "            keypoints = extract_keypoints(landmark_result)\n",
    "            y_cap = predict_label(keypoints)\n",
    "            write_text_on_video(image, y_cap)\n",
    "        cv2.imshow(\"hand tracking\", image)\n",
    "        if cv2.waitKey(10) & 0xFF == ord('q'):\n",
    "            break\n",
    "\n",
    "    cap.release()\n",
    "    cv2.destroyAllWindows()\n",
    "    cv2.waitKey(1)"
   ]
  },
  {
   "cell_type": "code",
   "execution_count": null,
   "id": "5d560060",
   "metadata": {},
   "outputs": [],
   "source": []
  },
  {
   "cell_type": "code",
   "execution_count": 21,
   "id": "31415577",
   "metadata": {
    "ExecuteTime": {
     "end_time": "2021-12-06T07:13:03.268494Z",
     "start_time": "2021-12-06T07:05:49.063923Z"
    }
   },
   "outputs": [],
   "source": [
    "cap = cv2.VideoCapture(0)\n",
    "with mp_hands.Hands(min_detection_confidence=0.8, min_tracking_confidence=0.7) as hands:\n",
    "    while cap.isOpened():\n",
    "        ret, frame = cap.read()\n",
    "        image, results = add_hands_connection(frame, hands)\n",
    "        image = cv2.flip(image, 1)\n",
    "        landmark_result = results.multi_hand_landmarks\n",
    "        if landmark_result:\n",
    "            keypoints = extract_keypoints(landmark_result)\n",
    "            y_cap = predict_label(keypoints)\n",
    "            write_text_on_video(image, y_cap)\n",
    "        cv2.imshow(\"hand\", image)\n",
    "        if cv2.waitKey(10) & 0xFF == ord('q'):\n",
    "            break\n",
    "    cap.release()\n",
    "    cv2.destroyAllWindows()\n",
    "    cv2.waitKey(1)"
   ]
  },
  {
   "cell_type": "code",
   "execution_count": null,
   "id": "79ce5f19",
   "metadata": {},
   "outputs": [],
   "source": []
  },
  {
   "cell_type": "code",
   "execution_count": null,
   "id": "ec0e1d74",
   "metadata": {},
   "outputs": [],
   "source": []
  }
 ],
 "metadata": {
  "kernelspec": {
   "display_name": "Python 3 (ipykernel)",
   "language": "python",
   "name": "python3"
  },
  "language_info": {
   "codemirror_mode": {
    "name": "ipython",
    "version": 3
   },
   "file_extension": ".py",
   "mimetype": "text/x-python",
   "name": "python",
   "nbconvert_exporter": "python",
   "pygments_lexer": "ipython3",
   "version": "3.7.3"
  },
  "toc": {
   "base_numbering": 1,
   "nav_menu": {},
   "number_sections": true,
   "sideBar": true,
   "skip_h1_title": false,
   "title_cell": "Table of Contents",
   "title_sidebar": "Contents",
   "toc_cell": false,
   "toc_position": {},
   "toc_section_display": true,
   "toc_window_display": false
  }
 },
 "nbformat": 4,
 "nbformat_minor": 5
}
